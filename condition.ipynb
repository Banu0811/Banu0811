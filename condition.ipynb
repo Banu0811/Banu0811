{
  "nbformat": 4,
  "nbformat_minor": 0,
  "metadata": {
    "colab": {
      "provenance": [],
      "authorship_tag": "ABX9TyNykcPFzFPg3EuJT+LRnClm",
      "include_colab_link": true
    },
    "kernelspec": {
      "name": "python3",
      "display_name": "Python 3"
    },
    "language_info": {
      "name": "python"
    }
  },
  "cells": [
    {
      "cell_type": "markdown",
      "metadata": {
        "id": "view-in-github",
        "colab_type": "text"
      },
      "source": [
        "<a href=\"https://colab.research.google.com/github/Banu0811/Banu0811/blob/main/condition.ipynb\" target=\"_parent\"><img src=\"https://colab.research.google.com/assets/colab-badge.svg\" alt=\"Open In Colab\"/></a>"
      ]
    },
    {
      "cell_type": "code",
      "execution_count": null,
      "metadata": {
        "id": "IaxtsOsiSdYQ"
      },
      "outputs": [],
      "source": []
    },
    {
      "cell_type": "code",
      "source": [
        "age=int(input(\"enter the age\"))\n",
        "print(age)\n",
        "if age>18:\n",
        "  print(\"you are eligible for voting\")\n",
        ""
      ],
      "metadata": {
        "colab": {
          "base_uri": "https://localhost:8080/"
        },
        "id": "B7ZHDoN5Sfo0",
        "outputId": "e61c4b47-e9c9-40f1-9c2f-ee6fdd486b73"
      },
      "execution_count": 5,
      "outputs": [
        {
          "output_type": "stream",
          "name": "stdout",
          "text": [
            "enter the age21\n",
            "21\n",
            "you are eligible for voting\n"
          ]
        }
      ]
    },
    {
      "cell_type": "code",
      "source": [
        "age=int(input(\"enter the age\"))\n",
        "print(age)\n",
        "if age>18:\n",
        "  print(\"you are eligible for voting\")\n",
        "else:\n",
        "  print(\"your are not eligible for voting\")"
      ],
      "metadata": {
        "colab": {
          "base_uri": "https://localhost:8080/"
        },
        "id": "yC5tukaMSfrM",
        "outputId": "8f65fa27-3f86-4f28-a4f3-8cc08c2dafde"
      },
      "execution_count": 6,
      "outputs": [
        {
          "output_type": "stream",
          "name": "stdout",
          "text": [
            "enter the age18\n",
            "18\n",
            "your are not eligible for voting\n"
          ]
        }
      ]
    },
    {
      "cell_type": "code",
      "source": [
        "n=int(input(\"enter the number to check even or odd\"))\n",
        "if n%2==0:\n",
        "  print(\"it is even number\")\n",
        "else:\n",
        "  print(\"it is odd number\")\n"
      ],
      "metadata": {
        "colab": {
          "base_uri": "https://localhost:8080/"
        },
        "id": "GRr4iDbISftq",
        "outputId": "a77ee0f2-44b6-49bb-e52b-417fd4ee1ee4"
      },
      "execution_count": 18,
      "outputs": [
        {
          "output_type": "stream",
          "name": "stdout",
          "text": [
            "enter the number to check even or odd27\n",
            "it is odd number\n"
          ]
        }
      ]
    },
    {
      "cell_type": "code",
      "source": [
        "score=int(input(\"enter the marks\"))\n",
        "if score<100 and score>=90:\n",
        "  print(\"distinction\")\n",
        "elif score<90 and score>=80:\n",
        "  print(\"A grade\")\n",
        "elif score<80 and score>=70:\n",
        "  print(\"B grade\")\n",
        "elif score<70 and score>=60:\n",
        "  print(\"C grade\")\n",
        "elif score<60 and score>=50:\n",
        "  print(\"D grade\")\n",
        "else:\n",
        "  print(\"Fail\")\n",
        "\n",
        "\n"
      ],
      "metadata": {
        "colab": {
          "base_uri": "https://localhost:8080/"
        },
        "id": "jfmPC3RGSfyu",
        "outputId": "09c73f1e-3932-4b56-c7d9-55fe8f2594b3"
      },
      "execution_count": 19,
      "outputs": [
        {
          "output_type": "stream",
          "name": "stdout",
          "text": [
            "enter the marks80\n",
            "A grade\n"
          ]
        }
      ]
    },
    {
      "cell_type": "code",
      "source": [
        "a=60\n",
        "b=20\n",
        "c=30\n",
        "if a>b and a>c:\n",
        "  print(\"a is greater\")\n",
        "else:\n",
        "  if b>c:\n",
        "    print(\"b is greater\")\n",
        "  else:\n",
        "      print(\"c is greater\")"
      ],
      "metadata": {
        "colab": {
          "base_uri": "https://localhost:8080/"
        },
        "id": "NzxuED46Sf1F",
        "outputId": "c79e90d6-440e-4ea3-c541-8f76891789a7"
      },
      "execution_count": 22,
      "outputs": [
        {
          "output_type": "stream",
          "name": "stdout",
          "text": [
            "a is greater\n"
          ]
        }
      ]
    },
    {
      "cell_type": "code",
      "source": [],
      "metadata": {
        "id": "bZRGTuq7Sf3m"
      },
      "execution_count": null,
      "outputs": []
    },
    {
      "cell_type": "code",
      "source": [],
      "metadata": {
        "id": "S_VZYIJ4Sf6M"
      },
      "execution_count": null,
      "outputs": []
    },
    {
      "cell_type": "code",
      "source": [],
      "metadata": {
        "id": "PlkPcqg0Sf8y"
      },
      "execution_count": null,
      "outputs": []
    },
    {
      "cell_type": "code",
      "source": [],
      "metadata": {
        "id": "NqN8H8NYSgAb"
      },
      "execution_count": null,
      "outputs": []
    },
    {
      "cell_type": "code",
      "source": [],
      "metadata": {
        "id": "d9oQWCtaSgFl"
      },
      "execution_count": null,
      "outputs": []
    },
    {
      "cell_type": "code",
      "source": [],
      "metadata": {
        "id": "5VKwjEseSgI7"
      },
      "execution_count": null,
      "outputs": []
    }
  ]
}