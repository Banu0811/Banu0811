{
  "nbformat": 4,
  "nbformat_minor": 0,
  "metadata": {
    "colab": {
      "provenance": [],
      "authorship_tag": "ABX9TyN6dXBrzMHuVeFERPpPkL0r",
      "include_colab_link": true
    },
    "kernelspec": {
      "name": "python3",
      "display_name": "Python 3"
    },
    "language_info": {
      "name": "python"
    }
  },
  "cells": [
    {
      "cell_type": "markdown",
      "metadata": {
        "id": "view-in-github",
        "colab_type": "text"
      },
      "source": [
        "<a href=\"https://colab.research.google.com/github/Banu0811/Banu0811/blob/python/function.ipynb\" target=\"_parent\"><img src=\"https://colab.research.google.com/assets/colab-badge.svg\" alt=\"Open In Colab\"/></a>"
      ]
    },
    {
      "cell_type": "code",
      "execution_count": 1,
      "metadata": {
        "id": "jhVQG8onlV9w"
      },
      "outputs": [],
      "source": [
        "def total(a,b):\n",
        "  c=a+b\n",
        "  print(c)\n",
        ""
      ]
    },
    {
      "cell_type": "code",
      "source": [
        "total(10,20)\n"
      ],
      "metadata": {
        "colab": {
          "base_uri": "https://localhost:8080/"
        },
        "id": "D-okn_lylWhi",
        "outputId": "f2a4013a-78a2-49fd-82cd-9bcaebe2d9cb"
      },
      "execution_count": 3,
      "outputs": [
        {
          "output_type": "stream",
          "name": "stdout",
          "text": [
            "30\n"
          ]
        }
      ]
    },
    {
      "cell_type": "code",
      "source": [
        "#required arguments, default arguments,keword,variable\n",
        "\n",
        "\n",
        "total(5,10)\n"
      ],
      "metadata": {
        "colab": {
          "base_uri": "https://localhost:8080/"
        },
        "id": "kZ4pqvqwlWkW",
        "outputId": "504fba2a-7b16-4c4f-8aa7-567c2fc44a88"
      },
      "execution_count": 4,
      "outputs": [
        {
          "output_type": "stream",
          "name": "stdout",
          "text": [
            "15\n"
          ]
        }
      ]
    },
    {
      "cell_type": "code",
      "source": [
        "def details(name,age=20):\n",
        "  print(name,age)\n"
      ],
      "metadata": {
        "id": "Qfoo_G85lWml"
      },
      "execution_count": 8,
      "outputs": []
    },
    {
      "cell_type": "code",
      "source": [
        "details(\"sam\",30)"
      ],
      "metadata": {
        "colab": {
          "base_uri": "https://localhost:8080/"
        },
        "id": "ZY8xHe-ElWuO",
        "outputId": "979b19fa-7f36-4dcf-8204-4dcf6a91f1d5"
      },
      "execution_count": 9,
      "outputs": [
        {
          "output_type": "stream",
          "name": "stdout",
          "text": [
            "sam 30\n"
          ]
        }
      ]
    },
    {
      "cell_type": "code",
      "source": [
        "details(\"sam\")"
      ],
      "metadata": {
        "colab": {
          "base_uri": "https://localhost:8080/"
        },
        "id": "09X74CojlWwZ",
        "outputId": "a737d08a-d66e-4beb-afec-e748dd6143e4"
      },
      "execution_count": 10,
      "outputs": [
        {
          "output_type": "stream",
          "name": "stdout",
          "text": [
            "sam 20\n"
          ]
        }
      ]
    },
    {
      "cell_type": "code",
      "source": [
        "def details(a,b):\n",
        "  print(a,b)\n",
        ""
      ],
      "metadata": {
        "id": "hbNDb1wJlWy3"
      },
      "execution_count": 11,
      "outputs": []
    },
    {
      "cell_type": "code",
      "source": [
        "details(a=\"ram\",b=\"ramya\")"
      ],
      "metadata": {
        "colab": {
          "base_uri": "https://localhost:8080/"
        },
        "id": "ceDwaEZElW1S",
        "outputId": "28bd8ce1-d2e9-4f27-ba02-79cf2ab7874c"
      },
      "execution_count": 12,
      "outputs": [
        {
          "output_type": "stream",
          "name": "stdout",
          "text": [
            "ram ramya\n"
          ]
        }
      ]
    },
    {
      "cell_type": "code",
      "source": [
        "def details(*var):\n",
        "  for i in var:\n",
        "    print(i)"
      ],
      "metadata": {
        "id": "EonX1o3clW3x"
      },
      "execution_count": 13,
      "outputs": []
    },
    {
      "cell_type": "code",
      "source": [
        "details([1,3,5,7,9])"
      ],
      "metadata": {
        "colab": {
          "base_uri": "https://localhost:8080/"
        },
        "id": "aeOikJOBlW6A",
        "outputId": "221fb8bd-d332-46b8-dca5-68a5512eecce"
      },
      "execution_count": 14,
      "outputs": [
        {
          "output_type": "stream",
          "name": "stdout",
          "text": [
            "[1, 3, 5, 7, 9]\n"
          ]
        }
      ]
    },
    {
      "cell_type": "code",
      "source": [
        "x=10\n",
        "def age():\n",
        "  print(x)\n",
        "  y=20\n",
        "  print(y)"
      ],
      "metadata": {
        "id": "YBMl2jDGlW8o"
      },
      "execution_count": 15,
      "outputs": []
    },
    {
      "cell_type": "code",
      "source": [
        "age()\n",
        "print(x)"
      ],
      "metadata": {
        "colab": {
          "base_uri": "https://localhost:8080/"
        },
        "id": "17Tx3e8KlW_X",
        "outputId": "93ec480f-9e44-454e-9809-82d5ea9b0f8d"
      },
      "execution_count": 18,
      "outputs": [
        {
          "output_type": "stream",
          "name": "stdout",
          "text": [
            "10\n",
            "20\n",
            "10\n"
          ]
        }
      ]
    },
    {
      "cell_type": "code",
      "source": [
        "s=lambda x,y:x+y\n"
      ],
      "metadata": {
        "id": "KMjiuIHPlXC4"
      },
      "execution_count": 19,
      "outputs": []
    },
    {
      "cell_type": "code",
      "source": [
        "s(30,20)"
      ],
      "metadata": {
        "colab": {
          "base_uri": "https://localhost:8080/"
        },
        "id": "70LzO3JLr6iP",
        "outputId": "b3b803a9-a179-4057-8efa-89a616a1c749"
      },
      "execution_count": 20,
      "outputs": [
        {
          "output_type": "execute_result",
          "data": {
            "text/plain": [
              "50"
            ]
          },
          "metadata": {},
          "execution_count": 20
        }
      ]
    },
    {
      "cell_type": "code",
      "source": [
        "s=lambda x,y: x if x>y else y\n",
        "s(30,20)"
      ],
      "metadata": {
        "colab": {
          "base_uri": "https://localhost:8080/"
        },
        "id": "AsVPxEYTr6fK",
        "outputId": "26fb74b5-f99d-4bb3-bf83-cb7d065143d5"
      },
      "execution_count": 22,
      "outputs": [
        {
          "output_type": "execute_result",
          "data": {
            "text/plain": [
              "30"
            ]
          },
          "metadata": {},
          "execution_count": 22
        }
      ]
    },
    {
      "cell_type": "code",
      "source": [
        "s=lambda x:x*x*x\n",
        "s(5)"
      ],
      "metadata": {
        "colab": {
          "base_uri": "https://localhost:8080/"
        },
        "id": "5tRqFBArr6Z4",
        "outputId": "a809bef5-02ce-4862-ab8e-266b5a01a2aa"
      },
      "execution_count": 24,
      "outputs": [
        {
          "output_type": "execute_result",
          "data": {
            "text/plain": [
              "125"
            ]
          },
          "metadata": {},
          "execution_count": 24
        }
      ]
    },
    {
      "cell_type": "code",
      "source": [
        "s=lambda str1:str1[::-1]\n",
        "s(\"coffee\")"
      ],
      "metadata": {
        "colab": {
          "base_uri": "https://localhost:8080/",
          "height": 36
        },
        "id": "6eM8TF6XtBId",
        "outputId": "669d7c33-6c84-4323-b688-ffb4223b20b7"
      },
      "execution_count": 25,
      "outputs": [
        {
          "output_type": "execute_result",
          "data": {
            "text/plain": [
              "'eeffoc'"
            ],
            "application/vnd.google.colaboratory.intrinsic+json": {
              "type": "string"
            }
          },
          "metadata": {},
          "execution_count": 25
        }
      ]
    },
    {
      "cell_type": "code",
      "source": [
        "s=lambda str1:str1[::1]\n",
        "s(\"coffee\")"
      ],
      "metadata": {
        "colab": {
          "base_uri": "https://localhost:8080/",
          "height": 36
        },
        "id": "fVVFl1IetBFE",
        "outputId": "8622680e-1327-4ef2-9ec1-f7a9c895507a"
      },
      "execution_count": 26,
      "outputs": [
        {
          "output_type": "execute_result",
          "data": {
            "text/plain": [
              "'coffee'"
            ],
            "application/vnd.google.colaboratory.intrinsic+json": {
              "type": "string"
            }
          },
          "metadata": {},
          "execution_count": 26
        }
      ]
    },
    {
      "cell_type": "code",
      "source": [],
      "metadata": {
        "id": "TUoXgQxItBC3"
      },
      "execution_count": null,
      "outputs": []
    },
    {
      "cell_type": "code",
      "source": [],
      "metadata": {
        "id": "cZvrMZLxtBAg"
      },
      "execution_count": null,
      "outputs": []
    },
    {
      "cell_type": "code",
      "source": [],
      "metadata": {
        "id": "6_dQmcSHtA-p"
      },
      "execution_count": null,
      "outputs": []
    }
  ]
}